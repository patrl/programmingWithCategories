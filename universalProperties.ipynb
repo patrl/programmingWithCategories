{
 "cells": [
  {
   "cell_type": "code",
   "execution_count": 4,
   "metadata": {},
   "outputs": [],
   "source": [
    "data Pair a b = MkPair { first :: a, second :: b}\n",
    "\n",
    "tuple :: (c -> a) -> (c -> b) -> (c -> Pair a b)\n",
    "tuple f g c = MkPair (f c) (g c)"
   ]
  },
  {
   "cell_type": "markdown",
   "metadata": {},
   "source": [
    "# Universal properties\n",
    "\n",
    "A one-stop shop for:\n",
    "- Products: maps into a and b\n",
    "- Coproducts: maps out of a and b\n",
    "- Exponentials\n",
    "\n",
    "## Coproducts in Set\n",
    "\n",
    "The coproduct in Set is given by the disjoint union (also known as the tagged union). I'll write this as $\\underline{\\cup}$.\n",
    "\n",
    "$$\n",
    "\\{(1,a)\\,|\\,a \\in A\\} \\underline\\cup \\{(2,b)\\,|\\,b \\in B\\}\n",
    "$$\n",
    "\n",
    "## Definition of coproduct\n",
    "\n",
    "Let $C$ be a category, with $c,d \\in \\mathrm{Ob}(C)$. A *coproduct* of $c$ and $d$ consists of three components:\n",
    "\n",
    "1. an object $c +d \\in \\mathrm{Ob}(C)$\n",
    "2. A morphism $\\mathrm{Left}: c \\to c + d$\n",
    "3. A morphism $\\mathrm{Right}:d \\to c+ d$\n",
    "\n",
    "Satisfying the property that for any $x \\in \\mathrm{Obj}(C)$, and morphisms $L:c \\to X$, $R:d \\to X$, there is a unique morphism $c+d \\to X$ such that the following diagram commutes:\n",
    "\n",
    "![coproduct diagram](imgs/coproduct.png)\n",
    "\n",
    "## Implementation in haskell\n",
    "\n",
    "- `Either c d` corresponds to $x\\sqcup y$ in the diagram. \n",
    "- $i_x$ is the function `left`, and $i_y$ is the function `right`.\n",
    "- `either f g` corresponds to $(f,g)$ in the diagram."
   ]
  },
  {
   "cell_type": "code",
   "execution_count": 13,
   "metadata": {},
   "outputs": [],
   "source": [
    "data Either c d = Left c | Right d\n",
    "left :: c -> Either c d\n",
    "left = Left\n",
    "right :: d -> Either c d\n",
    "right = Right\n",
    "\n",
    "either :: (c -> x) -> (d -> x) -> (Either c d -> x)\n",
    "either f _ (Left c) = f c\n",
    "either _ g (Right d) = g d"
   ]
  },
  {
   "cell_type": "markdown",
   "metadata": {},
   "source": [
    "## Exponentials\n",
    "\n",
    "Let's take an example from the category Set; currying and uncurrying.\n",
    "\n",
    "$$\\mathrm{Setting} \\times \\mathrm{Input} \\to \\mathrm{Output}$$\n",
    "\n",
    "$$\\mathrm{Setting} \\to \\{f:\\mathrm{Input} \\to \\mathrm{Output}\\}$$\n",
    "\n",
    "If we have a mapping from $(a,b) \\to c$, then we have a mapping $a \\to b \\to c$.\n",
    "\n",
    "In haskell, instead of writing $a^b$, we write $f:b \\to a$.\n",
    "\n",
    "![exponential diagram](imgs/exponential.png)"
   ]
  },
  {
   "cell_type": "code",
   "execution_count": 24,
   "metadata": {},
   "outputs": [],
   "source": [
    "katsu :: ((a,b) -> c) -> a -> b -> c\n",
    "katsu f a b = f (a,b)\n",
    "\n",
    "unkatsu :: (a -> b -> c) -> ((a,b) -> c)\n",
    "unkatsu f (a,b) = f a b"
   ]
  }
 ],
 "metadata": {
  "kernelspec": {
   "display_name": "Haskell - haskell",
   "language": "haskell",
   "name": "ihaskell_haskell"
  },
  "language_info": {
   "codemirror_mode": "ihaskell",
   "file_extension": ".hs",
   "name": "haskell",
   "pygments_lexer": "Haskell",
   "version": "8.6.5"
  }
 },
 "nbformat": 4,
 "nbformat_minor": 4
}
