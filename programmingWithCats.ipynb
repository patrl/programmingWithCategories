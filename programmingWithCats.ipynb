{
 "cells": [
  {
   "cell_type": "markdown",
   "metadata": {},
   "source": [
    "# Course structure\n",
    "\n",
    "- Relationship between categories, functors, natural transformations (in category theory) and types and functions (in haskell).\n",
    "- Relationship between universal constructions (in category theory) and algebraic datatypes (in haskell).\n",
    "- Relationship between algebras and coalgebras (in category theory), and recursive types (in haskell).\n",
    "- Relationship between monads (in category theory) and side effects (in haskell).\n"
   ]
  },
  {
   "cell_type": "markdown",
   "metadata": {},
   "source": [
    "# Set theory assumptions\n",
    "\n",
    "- $\\underline{0} = \\lbrace \\rbrace$\n",
    "- $\\underline{1} = \\lbrace 1 \\rbrace$\n",
    "\n",
    "etc.\n",
    "\n",
    "- $N = \\lbrace 0,1,2,3,\\ldots \\rbrace$\n",
    "- $Z = \\lbrace \\ldots, -2, -1, 0, 1, 2, \\ldots$\n",
    "- $Bool = \\lbrace True,False\\rbrace$\n",
    "- There's an isomorphism between $Bool$ and $\\underline{2}$."
   ]
  },
  {
   "cell_type": "markdown",
   "metadata": {},
   "source": [
    "# Functions\n",
    "\n",
    "- Rules for asssigning values of one set to values of another.\n",
    "- $X \\xrightarrow{f} Y$\n",
    "- Assumption here that a function is a total function; every element of $X$ gets assigned a value of $Y$; not necessarily every element of $Y$ is s.t. \n",
    "an element of $X$ is assigned to it.\n",
    "- There are $n^m$ functions from $\\underline{m}$ to $\\underline{n}$; an $n-$dimensional cube, with $m-$patterns on each side.\n",
    "\n",
    "## Composition of functions\n",
    "\n",
    "- $g\\,.\\,f\\,(x) := g(f(x))$\n",
    "- function composition is *associative* (bracketing doesn't matter).\n",
    "- Identity functions assign everything to itself.\n",
    "\n",
    "### Unital facts\n",
    "\n",
    "- Take the function: $f : A \\rightarrow B$.\n",
    "- $ID_B\\,.\\,f = f$\n",
    "- $f\\,.\\,ID_A = f$\n",
    "\n",
    "## Isomorphism\n",
    "\n",
    "A function $f:A \\rightarrow B$ is called an isomorphism if there exists a function $g:B \\rightarrow A$ s.t. $g\\,.\\,f = ID_A$ and $f\\,.\\,g = ID_B$.\n",
    "\n",
    "Does every injection have a retraction? No, if we have a function from a two-membered set $\\lbrace 1,2 \\rbrace$ to a one-membered set $\\lbrace a \\rbrace$ that maps each element to $a$.\n",
    "\n",
    "# Categories\n",
    "\n",
    "## Definition\n",
    "\n",
    "A category $C$ consists of the following constituents:\n",
    "\n",
    "- a set $Ob(C)$ elements of which are called \"objects\"; objects themselves are sets (what about Russell's paradox?).\n",
    "- For every two objects $c,d \\in Ob(C)$, there is a set $C(c,d)$, elements of which are called \"morphisms\" from $c$ to $d$.\n",
    "- For each object $c$, a chosen element $id_c$ in $C(c,c)$.\n",
    "- Fpr any three objects $c,d,e$, and morphisms $f: c \\to d$, $g: d \\to e$, there is a chosen morphism $g\\,.\\,f : c \\to e$.  \n",
    "i.e., how do you compose?\n",
    "\n",
    "A notational point: if $f \\in C(c,d)$, we'll write $f: c \\to d$.\n",
    "\n",
    "### Subject to two constraints\n",
    "\n",
    "#### the unital laws  \n",
    "\n",
    "For any morphism $f: c \\to d$:,  \n",
    "  - $f\\,.\\,id_c =f$\n",
    "  - $id_d\\,.\\,f = f$\n",
    "\n",
    "#### The associative laws\n",
    "\n",
    "Composition of morphisms is associative.\n",
    "\n",
    "## An important note on morphisms vs. functions\n",
    "\n",
    "- morphisms aren't necessarily functions!!!"
   ]
  }
 ],
 "metadata": {
  "kernelspec": {
   "display_name": "Haskell - haskell",
   "language": "haskell",
   "name": "ihaskell_haskell"
  },
  "language_info": {
   "codemirror_mode": "ihaskell",
   "file_extension": ".hs",
   "name": "haskell",
   "pygments_lexer": "Haskell",
   "version": "8.6.5"
  }
 },
 "nbformat": 4,
 "nbformat_minor": 4
}
