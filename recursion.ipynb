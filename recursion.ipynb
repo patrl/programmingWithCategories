{
 "cells": [
  {
   "cell_type": "markdown",
   "metadata": {},
   "source": [
    "# Exercise 4.1 Implement the functor instance for `ExprF`\n",
    "\n",
    "## TODO check that this obeys the functor laws."
   ]
  },
  {
   "cell_type": "code",
   "execution_count": 13,
   "metadata": {},
   "outputs": [],
   "source": [
    "data ExprF a = PlusF a a\n",
    "             | TimesF a a\n",
    "             | ConstF Double\n",
    "             | VarF String\n",
    "             \n",
    "instance Functor ExprF where\n",
    "    fmap f (VarF xs) = VarF xs\n",
    "    fmap f (ConstF d) = ConstF d\n",
    "    fmap f (TimesF x y) = TimesF (f x) (f y)\n",
    "    fmap f (PlusF x y) = PlusF (f x) (f y)"
   ]
  },
  {
   "cell_type": "code",
   "execution_count": null,
   "metadata": {},
   "outputs": [],
   "source": []
  }
 ],
 "metadata": {
  "kernelspec": {
   "display_name": "Haskell - haskell",
   "language": "haskell",
   "name": "ihaskell_haskell"
  },
  "language_info": {
   "codemirror_mode": "ihaskell",
   "file_extension": ".hs",
   "name": "haskell",
   "pygments_lexer": "Haskell",
   "version": "8.6.5"
  }
 },
 "nbformat": 4,
 "nbformat_minor": 4
}
