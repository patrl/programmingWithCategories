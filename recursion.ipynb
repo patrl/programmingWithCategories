{
 "cells": [
  {
   "cell_type": "markdown",
   "metadata": {},
   "source": [
    "# Recursive datatypes for doing arithmetic\n",
    "\n",
    "We can define a straightforward recursive data-type to represent arithmetic formulae as trees, e.g.\n",
    "\n",
    "$$2x^2 + 3x + 4 $$"
   ]
  },
  {
   "cell_type": "code",
   "execution_count": 2,
   "metadata": {},
   "outputs": [],
   "source": [
    "data Ex = Plus Ex Ex -- product type\n",
    "    | Times Ex Ex -- product type\n",
    "    | Const Double -- \n",
    "    | Var String -- variables"
   ]
  },
  {
   "cell_type": "markdown",
   "metadata": {},
   "source": [
    "Can we abstract out the *recursive* part of the datatype? We start with an (endo)functor."
   ]
  },
  {
   "cell_type": "code",
   "execution_count": 17,
   "metadata": {},
   "outputs": [],
   "source": [
    "data ExF a = Plus' a a\n",
    "    | Times' a a\n",
    "    | Const' Double\n",
    "    | Var' String"
   ]
  },
  {
   "cell_type": "markdown",
   "metadata": {},
   "source": [
    "Let's pick `Double` as our *carrier type*."
   ]
  },
  {
   "cell_type": "code",
   "execution_count": 18,
   "metadata": {},
   "outputs": [],
   "source": [
    "eval :: ExF Double -> Double\n",
    "eval (Plus' x y) = x + y\n",
    "eval (Times' x y) = x * y\n",
    "eval (Const' x) = x\n",
    "eval (Var' \"x\") = 2"
   ]
  },
  {
   "cell_type": "markdown",
   "metadata": {},
   "source": [
    "# Fact\n",
    "\n",
    "F-algebras and their morphisms are a category."
   ]
  },
  {
   "cell_type": "code",
   "execution_count": null,
   "metadata": {},
   "outputs": [],
   "source": []
  }
 ],
 "metadata": {
  "kernelspec": {
   "display_name": "Haskell - haskell",
   "language": "haskell",
   "name": "ihaskell_haskell"
  },
  "language_info": {
   "codemirror_mode": "ihaskell",
   "file_extension": ".hs",
   "name": "haskell",
   "pygments_lexer": "Haskell",
   "version": "8.6.5"
  }
 },
 "nbformat": 4,
 "nbformat_minor": 4
}
