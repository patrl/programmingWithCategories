{
 "cells": [
  {
   "cell_type": "markdown",
   "metadata": {},
   "source": [
    "# Categories in haskell\n",
    "\n",
    "## Definition of a category\n",
    "\n",
    "A category $C$ consists of four constituents:\n",
    "\n",
    "1. A set $\\mathrm{Ob}(C)$, elements of which are called *objects of $C$*.\n",
    "2. For every pair of objects $c, d \\in Ob(C)$, a set $C(c,d)$, elements of which are called *morphisms from $c$ to $d$*, often denoted $f : c \\to d$.\n",
    "3. For every object $c$, a specified morphism $\\mathrm{id}_c \\in C(c,c)$ called the *identity morphism for $c$*.\n",
    "4. For every three objects $b,c,d \\in Ob(C)$, and morphisms $f: c \\to d$ and $g : c \\to d$, a specified morphism $f\\,;\\,g : b \\to d$, called the *composite of $f$ and $g$* often denoted as $g \\cdot f$.\n",
    "\n",
    "These four constituents are subject to the following three constraints (the *category laws*):\n",
    "\n",
    "1. **Left Unital**: for any $f: c \\to d$, the equation $id_c\\,;\\,f = f$ holds.\n",
    "2. **Right Unital**: for any $f: c \\to d$, the equation $f\\,;\\,id_d = f$ holds.\n",
    "3. **Associative**: for any $f:c_1 \\to c_2, g:c_2 \\to c_3, h: c_3 \\to c_4$, the equation $(f\\,;\\,g)\\,;\\,h = f\\,;\\,(g\\,;\\,h)$ holds."
   ]
  },
  {
   "cell_type": "markdown",
   "metadata": {},
   "source": [
    "## The typeclass `Category`\n",
    "\n",
    "We can implement the notion of category as a haskell typeclass, where:\n",
    "- For a given category $C$, the type `obj` characterises the set $Obj(C)$.\n",
    "- The type `mor` characterises the set of morphisms.\n",
    "\n",
    "Notice that this implementation as a haskell typeclass does not *guarantee* that an instance of `Category` satisfies the category laws. In order to show this, one has to prove for any object `x` and morphism `f`:\n",
    "- `if (dom f == x) then cmp (idy x) f == Just f` (left unital)\n",
    "- `if (cod f == y) then cmp f (idy y) == Just f` (right unital)\n",
    "\n",
    "And finally, for any morphisms `f,g,h`:\n",
    "- `cmp (cmp f g) h == cmp f (cmp g h)` (associative)"
   ]
  },
  {
   "cell_type": "code",
   "execution_count": 1,
   "metadata": {},
   "outputs": [],
   "source": [
    "{-# language FlexibleInstances, FunctionalDependencies #-}\n",
    "\n",
    "class Category obj mor | mor -> obj where\n",
    "    dom :: mor -> obj\n",
    "    cod :: mor -> obj\n",
    "    idy :: obj -> mor\n",
    "    cmp :: mor -> mor -> Maybe mor"
   ]
  },
  {
   "cell_type": "markdown",
   "metadata": {},
   "source": [
    "## Implementing the walking arrow category\n",
    "\n",
    "As an exercise, we can can implement the \"walking arrow\" category, often called $\\mathbf{2}$. The full definition of the category is given below:\n",
    "\n",
    " - $Ob(\\mathbf{2}) = \\{a,b\\}$\n",
    " - $\\mathbf{2}(a,b) = \\{f\\}$\n",
    " - $\\mathbf{2}(a,a) = \\{id_a\\}$\n",
    " - $\\mathbf{2}(b,b) = \\{id_b\\}$ \n",
    " - $\\mathbf{2}(b,a) = \\emptyset$\n",
    " \n",
    " We can implement the walking arrow category in haskell -- the objects of the category are given by the haskell type `TwoObj`, and the morphisms are given by the haskell category `TwoArr`."
   ]
  },
  {
   "cell_type": "code",
   "execution_count": 2,
   "metadata": {},
   "outputs": [],
   "source": [
    "data TwoObj = One | Two\n",
    "data TwoArr = IdOne | IdTwo | OneToTwo\n",
    "\n",
    "instance Category TwoObj TwoArr where\n",
    "    dom IdTwo = Two\n",
    "    dom _ = One\n",
    "    cod IdOne = One\n",
    "    cod _ = Two\n",
    "    idy One = IdOne\n",
    "    idy Two = IdTwo\n",
    "    cmp IdOne OneToTwo = Just OneToTwo\n",
    "    cmp OneToTwo IdTwo = Just OneToTwo\n",
    "    cmp IdOne IdOne = Just IdOne\n",
    "    cmp IdTwo IdTwo = Just IdTwo\n",
    "    cmp _ _ = Nothing"
   ]
  },
  {
   "cell_type": "markdown",
   "metadata": {},
   "source": [
    "## Preorders\n",
    "\n",
    "### Definition of a preorder\n",
    "\n",
    "A category $C$ is a *preorder* iff for every two objects $a,b \\in C$, there is at most one morphism $a \\to b$.\n",
    "\n",
    "### Preorder example\n",
    "\n",
    "There is a preorder $P$, s.t., $\\mathrm{Ob}(P) = \\mathbb{N}_{\\geq 1}$, and where:\n",
    "\n",
    "$$P(a,b) := \\{x \\in \\mathbb{N}\\,|\\,x * a = b\\}$$\n",
    "\n",
    "Now let's consider some properties of this category.\n",
    "- The identity on $12 \\in \\mathrm{Ob}(P)$ is $1 \\in \\mathrm{Ob}(P)$. In fact, for every object in $P$, the identity is $1$.\n",
    "- If $x: a \\to b$ and $y: b \\to c$ are morphisms, there is a morphism $x\\,;\\,y$ to serve as their composite. Concretely, if $a * n = b$, and $b * m = c$, then $a * n * m = c$. The composite of $n$ and $m$ is therefore just $n * m$.\n",
    "- Let's imagine that the objects of $P$ weren't just positive integers, but rather just $\\mathbb{N}$. $P$ should still be a preorder.\n",
    "\n",
    "A practical application of the notion of preorder to haskell is typeclasses -- the category that has as its objects typeclasses of haskell, and its morphisms the superclass relationship, is a preorder."
   ]
  },
  {
   "cell_type": "markdown",
   "metadata": {},
   "source": [
    "## Full subcategories\n",
    "\n",
    "Let $C$ be any category, where $D \\subseteq \\mathrm{Ob}(C)$. The *full subcategory of $C$ spanned by $D$*, denoted $C_{\\mathrm{Ob = D}}$, is defined by:\n",
    "\n",
    "$$\\mathrm{Ob}(C_{\\mathrm{Ob} = D}) := D$$\n",
    "\n",
    "and \n",
    "\n",
    "$$C_{\\mathrm{Ob} = D}(d_1,d_2) = C(d_1,d_2)$$\n",
    "\n",
    "Using our typeclass `Category`, we can make an instance that defines the full subcategory of Hask spanned by the objects `Bool` and `Int`. The only way I could figure out how to do this in a straightforward way was to come up with two \"proxy types\" `HaskBool` and `HaskInt` to stand in for the objects of `Hask`."
   ]
  },
  {
   "cell_type": "code",
   "execution_count": 55,
   "metadata": {},
   "outputs": [
    {
     "data": {
      "text/html": [
       "<style>/* Styles used for the Hoogle display in the pager */\n",
       ".hoogle-doc {\n",
       "display: block;\n",
       "padding-bottom: 1.3em;\n",
       "padding-left: 0.4em;\n",
       "}\n",
       ".hoogle-code {\n",
       "display: block;\n",
       "font-family: monospace;\n",
       "white-space: pre;\n",
       "}\n",
       ".hoogle-text {\n",
       "display: block;\n",
       "}\n",
       ".hoogle-name {\n",
       "color: green;\n",
       "font-weight: bold;\n",
       "}\n",
       ".hoogle-head {\n",
       "font-weight: bold;\n",
       "}\n",
       ".hoogle-sub {\n",
       "display: block;\n",
       "margin-left: 0.4em;\n",
       "}\n",
       ".hoogle-package {\n",
       "font-weight: bold;\n",
       "font-style: italic;\n",
       "}\n",
       ".hoogle-module {\n",
       "font-weight: bold;\n",
       "}\n",
       ".hoogle-class {\n",
       "font-weight: bold;\n",
       "}\n",
       ".get-type {\n",
       "color: green;\n",
       "font-weight: bold;\n",
       "font-family: monospace;\n",
       "display: block;\n",
       "white-space: pre-wrap;\n",
       "}\n",
       ".show-type {\n",
       "color: green;\n",
       "font-weight: bold;\n",
       "font-family: monospace;\n",
       "margin-left: 1em;\n",
       "}\n",
       ".mono {\n",
       "font-family: monospace;\n",
       "display: block;\n",
       "}\n",
       ".err-msg {\n",
       "color: red;\n",
       "font-style: italic;\n",
       "font-family: monospace;\n",
       "white-space: pre;\n",
       "display: block;\n",
       "}\n",
       "#unshowable {\n",
       "color: red;\n",
       "font-weight: bold;\n",
       "}\n",
       ".err-msg.in.collapse {\n",
       "padding-top: 0.7em;\n",
       "}\n",
       ".highlight-code {\n",
       "white-space: pre;\n",
       "font-family: monospace;\n",
       "}\n",
       ".suggestion-warning { \n",
       "font-weight: bold;\n",
       "color: rgb(200, 130, 0);\n",
       "}\n",
       ".suggestion-error { \n",
       "font-weight: bold;\n",
       "color: red;\n",
       "}\n",
       ".suggestion-name {\n",
       "font-weight: bold;\n",
       "}\n",
       "</style><span class='get-type'>cmp (IntToInt id) (IntToBool even) :: Maybe BoolIntArr</span>"
      ],
      "text/plain": [
       "cmp (IntToInt id) (IntToBool even) :: Maybe BoolIntArr"
      ]
     },
     "metadata": {},
     "output_type": "display_data"
    },
    {
     "ename": "",
     "evalue": "",
     "header": "MessageHeader {mhIdentifiers = [\"78ba2aa3-ab5f-4d7b-a02c-827216f18856\"], mhParentHeader = Just (MessageHeader {mhIdentifiers = [\"78ba2aa3-ab5f-4d7b-a02c-827216f18856\"], mhParentHeader = Nothing, mhMetadata = Metadata (fromList [(\"recordTiming\",Bool False),(\"deletedCells\",Array []),(\"cellId\",String \"57269f15-fb5a-4f2c-958d-2687f57f7646\")]), mhMessageId = UUID {uuidToString = \"0ceb7ea5-1692-44bf-99a7-a44be56ce7ba\"}, mhSessionId = UUID {uuidToString = \"78ba2aa3-ab5f-4d7b-a02c-827216f18856\"}, mhUsername = \"\", mhMsgType = ExecuteRequestMessage}), mhMetadata = Metadata (fromList []), mhMessageId = UUID {uuidToString = \"80d03d6a-c49c-47b5-8c0b-f75489aa41dd\"}, mhSessionId = UUID {uuidToString = \"78ba2aa3-ab5f-4d7b-a02c-827216f18856\"}, mhUsername = \"\", mhMsgType = ExecuteErrorMessage}",
     "output_type": "error",
     "traceback": [
      "<interactive>:4:27: error: Variable not in scope: a"
     ]
    }
   ],
   "source": [
    "data BoolIntOb = HaskBool | HaskInt\n",
    "\n",
    "data BoolIntArr = BoolToBool (Bool -> Bool) | IntToInt (Int -> Int) | BoolToInt (Bool -> Int) | IntToBool (Int -> Bool)\n",
    "\n",
    "instance Category BoolIntOb BoolIntArr where\n",
    "    dom (BoolToBool _) = HaskBool\n",
    "    dom (BoolToInt _) = HaskBool\n",
    "    dom _ = HaskInt\n",
    "    cod (BoolToBool _) = HaskBool\n",
    "    cod (IntToBool _) = HaskBool\n",
    "    cod _ = HaskInt\n",
    "    idy HaskBool = BoolToBool id\n",
    "    idy HaskInt = IntToInt id\n",
    "    cmp (BoolToBool f) (BoolToBool g) = Just (BoolToBool (g . f))\n",
    "    cmp (BoolToBool f) (BoolToInt g) = Just (BoolToInt (g . f))\n",
    "    cmp (IntToInt f) (IntToInt g) = Just (IntToInt (g .f))\n",
    "    cmp (BoolToInt f) (IntToInt g) = Just (BoolToInt (g . f))\n",
    "    cmp (BoolToInt f) (IntToBool g) = Just (BoolToBool (g . f))\n",
    "    cmp (IntToInt f) (IntToBool g) = Just (IntToBool (g . f))\n",
    "    cmp _ _ = Nothing\n",
    "    \n",
    ":t cmp (IntToInt id) (IntToBool even) "
   ]
  },
  {
   "cell_type": "code",
   "execution_count": null,
   "metadata": {},
   "outputs": [],
   "source": []
  }
 ],
 "metadata": {
  "kernelspec": {
   "display_name": "Haskell - haskell",
   "language": "haskell",
   "name": "ihaskell_haskell"
  },
  "language_info": {
   "codemirror_mode": "ihaskell",
   "file_extension": ".hs",
   "name": "haskell",
   "pygments_lexer": "Haskell",
   "version": "8.6.5"
  }
 },
 "nbformat": 4,
 "nbformat_minor": 4
}
