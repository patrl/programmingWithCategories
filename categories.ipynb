{
 "cells": [
  {
   "cell_type": "markdown",
   "metadata": {},
   "source": [
    "# Categories in haskell\n",
    "\n",
    "## Definition of a category\n",
    "\n",
    "A category $C$ consists of four constituents:\n",
    "\n",
    "1. A set $\\mathrm{Ob}(C)$, elements of which are called *objects of $C$*.\n",
    "2. For every pair of objects $c, d \\in Ob(C)$, a set $C(c,d)$, elements of which are called *morphisms from $c$ to $d$*, often denoted $f : c \\to d$.\n",
    "3. For every object $c$, a specified morphism $\\mathrm{id}_c \\in C(c,c)$ called the *identity morphism for $c$*.\n",
    "4. For every three objects $b,c,d \\in Ob(C)$, and morphisms $f: c \\to d$ and $g : c \\to d$, a specified morphism $f\\,;\\,g : b \\to d$, called the *composite of $f$ and $g$* often denoted as $g \\cdot f$.\n",
    "\n",
    "These four constituents are subject to the following three constraints (the *category laws*):\n",
    "\n",
    "1. **Left Unital**: for any $f: c \\to d$, the equation $id_c\\,;\\,f = f$ holds.\n",
    "2. **Right Unital**: for any $f: c \\to d$, the equation $f\\,;\\,id_d = f$ holds.\n",
    "3. **Associative**: for any $f:c_1 \\to c_2, g:c_2 \\to c_3, h: c_3 \\to c_4$, the equation $(f\\,;\\,g)\\,;\\,h = f\\,;\\,(g\\,;\\,h)$ holds."
   ]
  },
  {
   "cell_type": "markdown",
   "metadata": {},
   "source": [
    "## The typeclass `Category`\n",
    "\n",
    "We can implement the notion of category as a haskell typeclass, where:\n",
    "- For a given category $C$, the type `obj` characterises the set $Obj(C)$.\n",
    "- The type `mor` characterises the set of morphisms.\n",
    "\n",
    "Notice that this implementation as a haskell typeclass does not *guarantee* that an instance of `Category` satisfies the category laws. In order to show this, one has to prove for any object `x` and morphism `f`:\n",
    "- `if (dom f == x) then cmp (idy x) f == Just f` (left unital)\n",
    "- `if (cod f == y) then cmp f (idy y) == Just f` (right unital)\n",
    "\n",
    "And finally, for any morphisms `f,g,h`:\n",
    "- `cmp (cmp f g) h == cmp f (cmp g h)` (associative)"
   ]
  },
  {
   "cell_type": "code",
   "execution_count": 35,
   "metadata": {},
   "outputs": [],
   "source": [
    "{-# language FlexibleInstances, FunctionalDependencies #-}\n",
    "\n",
    "class Category obj mor | mor -> obj where\n",
    "    dom :: mor -> obj\n",
    "    cod :: mor -> obj\n",
    "    idy :: obj -> mor\n",
    "    cmp :: mor -> mor -> Maybe mor"
   ]
  },
  {
   "cell_type": "markdown",
   "metadata": {},
   "source": [
    "## Implementing the walking arrow category\n",
    "\n",
    "As an exercise, we can can implement the \"walking arrow\" category, often called $\\mathbf{2}$. The full definition of the category is given below:\n",
    "\n",
    " - $Ob(\\mathbf{2}) = \\{a,b\\}$\n",
    " - $\\mathbf{2}(a,b) = \\{f\\}$\n",
    " - $\\mathbf{2}(a,a) = \\{id_a\\}$\n",
    " - $\\mathbf{2}(b,b) = \\{id_b\\}$ \n",
    " - $\\mathbf{2}(b,a) = \\emptyset$\n",
    " \n",
    " We can implement the walking arrow category in haskell -- the objects of the category are given by the haskell type `TwoObj`, and the morphisms are given by the haskell category `TwoArr`."
   ]
  },
  {
   "cell_type": "code",
   "execution_count": 45,
   "metadata": {},
   "outputs": [],
   "source": [
    "data TwoObj = One | Two\n",
    "data TwoArr = IdOne | IdTwo | OneToTwo\n",
    "\n",
    "instance Category TwoObj TwoArr where\n",
    "    dom IdTwo = Two\n",
    "    dom _ = One\n",
    "    cod IdOne = One\n",
    "    cod _ = Two\n",
    "    idy One = IdOne\n",
    "    idy Two = IdTwo\n",
    "    cmp IdOne OneToTwo = Just OneToTwo\n",
    "    cmp OneToTwo IdTwo = Just OneToTwo\n",
    "    cmp IdOne IdOne = Just IdOne\n",
    "    cmp IdTwo IdTwo = Just IdTwo\n",
    "    cmp _ _ = Nothing"
   ]
  }
 ],
 "metadata": {
  "kernelspec": {
   "display_name": "Haskell - haskell",
   "language": "haskell",
   "name": "ihaskell_haskell"
  },
  "language_info": {
   "codemirror_mode": "ihaskell",
   "file_extension": ".hs",
   "name": "haskell",
   "pygments_lexer": "Haskell",
   "version": "8.6.5"
  }
 },
 "nbformat": 4,
 "nbformat_minor": 4
}
